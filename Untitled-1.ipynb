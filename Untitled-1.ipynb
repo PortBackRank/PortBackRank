{
 "cells": [
  {
   "cell_type": "code",
   "execution_count": 1,
   "metadata": {},
   "outputs": [],
   "source": [
    "import yfinance as yf"
   ]
  },
  {
   "cell_type": "code",
   "execution_count": 3,
   "metadata": {},
   "outputs": [],
   "source": [
    "aux = yf.Tickers('SIVR39.SA')"
   ]
  },
  {
   "cell_type": "code",
   "execution_count": 4,
   "metadata": {},
   "outputs": [
    {
     "data": {
      "text/plain": [
       "{'maxAge': 86400,\n",
       " 'priceHint': 2,\n",
       " 'previousClose': 56.35,\n",
       " 'open': 55.5,\n",
       " 'dayLow': 55.32,\n",
       " 'dayHigh': 55.98,\n",
       " 'regularMarketPreviousClose': 56.35,\n",
       " 'regularMarketOpen': 55.5,\n",
       " 'regularMarketDayLow': 55.32,\n",
       " 'regularMarketDayHigh': 55.98,\n",
       " 'volume': 1037,\n",
       " 'regularMarketVolume': 1037,\n",
       " 'bid': 55.98,\n",
       " 'ask': 63.39,\n",
       " 'fiftyTwoWeekLow': 55.32,\n",
       " 'fiftyTwoWeekHigh': 55.98,\n",
       " 'currency': 'BRL',\n",
       " 'exchange': 'SAO',\n",
       " 'quoteType': 'EQUITY',\n",
       " 'symbol': 'SIVR39.SA',\n",
       " 'underlyingSymbol': 'SIVR39.SA',\n",
       " 'shortName': 'ABDEN SILV  DRE',\n",
       " 'timeZoneFullName': 'America/Sao_Paulo',\n",
       " 'timeZoneShortName': 'BRT',\n",
       " 'uuid': 'a0195028-cdc0-33d2-92aa-a8c3420d25cb',\n",
       " 'messageBoardId': 'finmb_51755684',\n",
       " 'gmtOffSetMilliseconds': -10800000,\n",
       " 'trailingPegRatio': None}"
      ]
     },
     "execution_count": 4,
     "metadata": {},
     "output_type": "execute_result"
    }
   ],
   "source": [
    "type(aux.tickers)\n",
    "\n",
    "aux.tickers['SIVR39.SA'].info"
   ]
  }
 ],
 "metadata": {
  "kernelspec": {
   "display_name": ".venv",
   "language": "python",
   "name": "python3"
  },
  "language_info": {
   "codemirror_mode": {
    "name": "ipython",
    "version": 3
   },
   "file_extension": ".py",
   "mimetype": "text/x-python",
   "name": "python",
   "nbconvert_exporter": "python",
   "pygments_lexer": "ipython3",
   "version": "3.12.4"
  }
 },
 "nbformat": 4,
 "nbformat_minor": 2
}
